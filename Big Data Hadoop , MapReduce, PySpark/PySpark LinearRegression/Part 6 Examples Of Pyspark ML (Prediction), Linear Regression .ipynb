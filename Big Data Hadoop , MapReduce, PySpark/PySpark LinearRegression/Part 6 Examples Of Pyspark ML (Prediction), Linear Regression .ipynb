{
 "cells": [
  {
   "cell_type": "code",
   "execution_count": 1,
   "id": "45d45054",
   "metadata": {},
   "outputs": [],
   "source": [
    "from pyspark.sql import SparkSession"
   ]
  },
  {
   "cell_type": "code",
   "execution_count": 3,
   "id": "ef43bebb",
   "metadata": {},
   "outputs": [
    {
     "name": "stderr",
     "output_type": "stream",
     "text": [
      "Using Spark's default log4j profile: org/apache/spark/log4j-defaults.properties\n",
      "Setting default log level to \"WARN\".\n",
      "To adjust logging level use sc.setLogLevel(newLevel). For SparkR, use setLogLevel(newLevel).\n",
      "22/01/29 14:24:35 WARN NativeCodeLoader: Unable to load native-hadoop library for your platform... using builtin-java classes where applicable\n",
      "22/01/29 14:24:36 WARN Utils: Service 'SparkUI' could not bind on port 4040. Attempting port 4041.\n",
      "22/01/29 14:24:36 WARN Utils: Service 'SparkUI' could not bind on port 4041. Attempting port 4042.\n",
      "22/01/29 14:24:36 WARN Utils: Service 'SparkUI' could not bind on port 4042. Attempting port 4043.\n",
      "22/01/29 14:24:36 WARN Utils: Service 'SparkUI' could not bind on port 4043. Attempting port 4044.\n",
      "22/01/29 14:24:36 WARN Utils: Service 'SparkUI' could not bind on port 4044. Attempting port 4045.\n",
      "22/01/29 14:24:36 WARN Utils: Service 'SparkUI' could not bind on port 4045. Attempting port 4046.\n"
     ]
    }
   ],
   "source": [
    "spark=SparkSession.builder.appName('Ex_of_ML').getOrCreate()"
   ]
  },
  {
   "cell_type": "code",
   "execution_count": 10,
   "id": "27250ebf",
   "metadata": {},
   "outputs": [],
   "source": [
    "#Read The Data Set\n",
    "traning=spark.read.csv('/Users/pragatigupta/Documents/OneDrive - montclair.edu/MSU/Interview/Big DATA/python Spark/test6.csv',header=True,inferSchema=True)"
   ]
  },
  {
   "cell_type": "code",
   "execution_count": 11,
   "id": "6c79c190",
   "metadata": {},
   "outputs": [
    {
     "name": "stdout",
     "output_type": "stream",
     "text": [
      "+-----+---+----------+------+\n",
      "| Name|Age|Experience|Salary|\n",
      "+-----+---+----------+------+\n",
      "|  RAM| 31|        10| 30000|\n",
      "| Sham| 30|         8| 25000|\n",
      "|Reena| 29|         4| 20000|\n",
      "|Teena| 24|         3| 20000|\n",
      "| Hema| 21|         1| 15000|\n",
      "|kamal| 23|         2| 18000|\n",
      "+-----+---+----------+------+\n",
      "\n"
     ]
    }
   ],
   "source": [
    "traning.show()"
   ]
  },
  {
   "cell_type": "code",
   "execution_count": 12,
   "id": "fd3be2ac",
   "metadata": {},
   "outputs": [
    {
     "name": "stdout",
     "output_type": "stream",
     "text": [
      "root\n",
      " |-- Name: string (nullable = true)\n",
      " |-- Age: integer (nullable = true)\n",
      " |-- Experience: integer (nullable = true)\n",
      " |-- Salary: integer (nullable = true)\n",
      "\n"
     ]
    }
   ],
   "source": [
    "traning.printSchema()"
   ]
  },
  {
   "cell_type": "code",
   "execution_count": 14,
   "id": "139dfd2a",
   "metadata": {},
   "outputs": [
    {
     "data": {
      "text/plain": [
       "['Name', 'Age', 'Experience', 'Salary']"
      ]
     },
     "execution_count": 14,
     "metadata": {},
     "output_type": "execute_result"
    },
    {
     "name": "stderr",
     "output_type": "stream",
     "text": [
      "22/01/29 14:49:16 WARN HeartbeatReceiver: Removing executor driver with no recent heartbeats: 1060251 ms exceeds timeout 120000 ms\n",
      "22/01/29 14:49:16 WARN SparkContext: Killing executors is not supported by current scheduler.\n"
     ]
    }
   ],
   "source": [
    "traning.columns"
   ]
  },
  {
   "cell_type": "code",
   "execution_count": 27,
   "id": "f2ebec09",
   "metadata": {},
   "outputs": [],
   "source": [
    "#[Age,Experience]---->new feature ---->independent feature   via VectorAssembler\n",
    "# Not for string,\n",
    "# for Categorical dataset : first convert then into numeriacal values"
   ]
  },
  {
   "cell_type": "markdown",
   "id": "bc6c97ab",
   "metadata": {},
   "source": [
    "# VectorAssembler"
   ]
  },
  {
   "cell_type": "code",
   "execution_count": 28,
   "id": "6ec417d7",
   "metadata": {},
   "outputs": [],
   "source": [
    "from pyspark.ml.feature import VectorAssembler\n",
    "featureassembler=VectorAssembler(inputCols=['Age','Experience'],outputCol='independent Features')"
   ]
  },
  {
   "cell_type": "code",
   "execution_count": 29,
   "id": "8f5a03ac",
   "metadata": {},
   "outputs": [],
   "source": [
    "\n",
    "output=featureassembler.transform(traning)"
   ]
  },
  {
   "cell_type": "code",
   "execution_count": 30,
   "id": "8e38f258",
   "metadata": {},
   "outputs": [
    {
     "name": "stdout",
     "output_type": "stream",
     "text": [
      "+-----+---+----------+------+--------------------+\n",
      "| Name|Age|Experience|Salary|independent Features|\n",
      "+-----+---+----------+------+--------------------+\n",
      "|  RAM| 31|        10| 30000|         [31.0,10.0]|\n",
      "| Sham| 30|         8| 25000|          [30.0,8.0]|\n",
      "|Reena| 29|         4| 20000|          [29.0,4.0]|\n",
      "|Teena| 24|         3| 20000|          [24.0,3.0]|\n",
      "| Hema| 21|         1| 15000|          [21.0,1.0]|\n",
      "|kamal| 23|         2| 18000|          [23.0,2.0]|\n",
      "+-----+---+----------+------+--------------------+\n",
      "\n"
     ]
    }
   ],
   "source": [
    "output.show()"
   ]
  },
  {
   "cell_type": "code",
   "execution_count": 31,
   "id": "5f972d04",
   "metadata": {},
   "outputs": [
    {
     "data": {
      "text/plain": [
       "['Name', 'Age', 'Experience', 'Salary', 'independent Features']"
      ]
     },
     "execution_count": 31,
     "metadata": {},
     "output_type": "execute_result"
    }
   ],
   "source": [
    "output.columns"
   ]
  },
  {
   "cell_type": "code",
   "execution_count": 33,
   "id": "a7235af7",
   "metadata": {},
   "outputs": [],
   "source": [
    "finalized_data=output.select('independent Features','Salary')"
   ]
  },
  {
   "cell_type": "code",
   "execution_count": 35,
   "id": "3ab43279",
   "metadata": {},
   "outputs": [
    {
     "name": "stdout",
     "output_type": "stream",
     "text": [
      "+--------------------+------+\n",
      "|independent Features|Salary|\n",
      "+--------------------+------+\n",
      "|         [31.0,10.0]| 30000|\n",
      "|          [30.0,8.0]| 25000|\n",
      "|          [29.0,4.0]| 20000|\n",
      "|          [24.0,3.0]| 20000|\n",
      "|          [21.0,1.0]| 15000|\n",
      "|          [23.0,2.0]| 18000|\n",
      "+--------------------+------+\n",
      "\n"
     ]
    }
   ],
   "source": [
    "finalized_data.show()\n",
    "#Here independent Features: independent Features and Dependent Feature: Salary "
   ]
  },
  {
   "cell_type": "code",
   "execution_count": null,
   "id": "c833de85",
   "metadata": {},
   "outputs": [],
   "source": [
    "#train-test split finalized_data.randomSplit([]) \n",
    "#featureCol: input\n",
    "#labelCol : output "
   ]
  },
  {
   "cell_type": "markdown",
   "id": "0caedb32",
   "metadata": {},
   "source": [
    "# LinearRegression"
   ]
  },
  {
   "cell_type": "code",
   "execution_count": 41,
   "id": "c74f3317",
   "metadata": {},
   "outputs": [
    {
     "name": "stderr",
     "output_type": "stream",
     "text": [
      "22/01/29 15:33:10 WARN Instrumentation: [554598a0] regParam is zero, which might cause numerical instability and overfitting.\n",
      "22/01/29 15:33:11 WARN InstanceBuilder$NativeBLAS: Failed to load implementation from:dev.ludovic.netlib.blas.JNIBLAS\n",
      "22/01/29 15:33:11 WARN InstanceBuilder$NativeBLAS: Failed to load implementation from:dev.ludovic.netlib.blas.ForeignLinkerBLAS\n",
      "22/01/29 15:33:12 WARN InstanceBuilder$NativeLAPACK: Failed to load implementation from:dev.ludovic.netlib.lapack.JNILAPACK\n"
     ]
    }
   ],
   "source": [
    "from pyspark.ml.regression import LinearRegression\n",
    "train_data,test_data=finalized_data.randomSplit([0.75,0.25])\n",
    "regressor=LinearRegression(featuresCol='independent Features', labelCol='Salary')\n",
    "regressor=regressor.fit(train_data)"
   ]
  },
  {
   "cell_type": "code",
   "execution_count": 42,
   "id": "8fe59011",
   "metadata": {},
   "outputs": [
    {
     "data": {
      "text/plain": [
       "DenseVector([-102.53, 1688.6818])"
      ]
     },
     "execution_count": 42,
     "metadata": {},
     "output_type": "execute_result"
    }
   ],
   "source": [
    "regressor.coefficients"
   ]
  },
  {
   "cell_type": "code",
   "execution_count": 43,
   "id": "a7c3e872",
   "metadata": {},
   "outputs": [
    {
     "data": {
      "text/plain": [
       "16470.03994673731"
      ]
     },
     "execution_count": 43,
     "metadata": {},
     "output_type": "execute_result"
    }
   ],
   "source": [
    "regressor.intercept"
   ]
  },
  {
   "cell_type": "markdown",
   "id": "dc0ccaab",
   "metadata": {},
   "source": [
    "# Prediction"
   ]
  },
  {
   "cell_type": "code",
   "execution_count": 45,
   "id": "8cbad0bf",
   "metadata": {},
   "outputs": [],
   "source": [
    "pred_results=regressor.evaluate(test_data)"
   ]
  },
  {
   "cell_type": "code",
   "execution_count": 46,
   "id": "02bd7480",
   "metadata": {},
   "outputs": [
    {
     "name": "stderr",
     "output_type": "stream",
     "text": [
      "/Users/pragatigupta/opt/anaconda3/lib/python3.9/site-packages/pyspark/sql/context.py:125: FutureWarning: Deprecated in 3.0.0. Use SparkSession.builder.getOrCreate() instead.\n",
      "  warnings.warn(\n"
     ]
    },
    {
     "name": "stdout",
     "output_type": "stream",
     "text": [
      "+--------------------+------+-----------------+\n",
      "|independent Features|Salary|       prediction|\n",
      "+--------------------+------+-----------------+\n",
      "|          [30.0,8.0]| 25000|26903.59520639148|\n",
      "+--------------------+------+-----------------+\n",
      "\n"
     ]
    }
   ],
   "source": [
    "pred_results.predictions.show()"
   ]
  },
  {
   "cell_type": "markdown",
   "id": "722a8872",
   "metadata": {},
   "source": [
    "# meanAbsoluteError"
   ]
  },
  {
   "cell_type": "code",
   "execution_count": 50,
   "id": "1399b4f2",
   "metadata": {},
   "outputs": [
    {
     "data": {
      "text/plain": [
       "(1903.595206391481, 3623674.709796625)"
      ]
     },
     "execution_count": 50,
     "metadata": {},
     "output_type": "execute_result"
    }
   ],
   "source": [
    "pred_results.meanAbsoluteError,pred_results.meanSquaredError"
   ]
  },
  {
   "cell_type": "code",
   "execution_count": null,
   "id": "296abd29",
   "metadata": {},
   "outputs": [],
   "source": []
  }
 ],
 "metadata": {
  "kernelspec": {
   "display_name": "Python 3 (ipykernel)",
   "language": "python",
   "name": "python3"
  },
  "language_info": {
   "codemirror_mode": {
    "name": "ipython",
    "version": 3
   },
   "file_extension": ".py",
   "mimetype": "text/x-python",
   "name": "python",
   "nbconvert_exporter": "python",
   "pygments_lexer": "ipython3",
   "version": "3.9.7"
  }
 },
 "nbformat": 4,
 "nbformat_minor": 5
}
